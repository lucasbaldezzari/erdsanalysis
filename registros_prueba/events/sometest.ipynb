{
 "cells": [
  {
   "cell_type": "markdown",
   "metadata": {
    "id": "2i9PzLgkxwBo"
   },
   "source": [
    "## Análisis de datos sesíon de prueba - Proyecto *Magalí Pereyra*.\n",
    "\n",
    "Autor: MSc. BALDEZZARI LUCAS, Bioingeniero."
   ]
  },
  {
   "cell_type": "code",
   "execution_count": 2,
   "metadata": {
    "id": "wDPnW0s-xwBx"
   },
   "outputs": [],
   "source": [
    "import numpy as np\n",
    "import matplotlib.pyplot as plt\n",
    "import seaborn as sns\n",
    "import pandas as pd\n",
    "import h5py"
   ]
  },
  {
   "cell_type": "code",
   "execution_count": 3,
   "metadata": {
    "id": "nvIxHwbqxwB0"
   },
   "outputs": [],
   "source": [
    "##cargo 1. agus_base_oa_events.txt en un dataframe\n",
    "eventos = pd.read_csv('5. agus_imag_events.txt', sep=',', header=0)"
   ]
  },
  {
   "cell_type": "code",
   "execution_count": 4,
   "metadata": {
    "id": "-hCwiIDGxwB2",
    "outputId": "6a709686-851f-459c-97c3-3267db79c912"
   },
   "outputs": [
    {
     "data": {
      "text/html": [
       "<div>\n",
       "<style scoped>\n",
       "    .dataframe tbody tr th:only-of-type {\n",
       "        vertical-align: middle;\n",
       "    }\n",
       "\n",
       "    .dataframe tbody tr th {\n",
       "        vertical-align: top;\n",
       "    }\n",
       "\n",
       "    .dataframe thead th {\n",
       "        text-align: right;\n",
       "    }\n",
       "</style>\n",
       "<table border=\"1\" class=\"dataframe\">\n",
       "  <thead>\n",
       "    <tr style=\"text-align: right;\">\n",
       "      <th></th>\n",
       "      <th>trialNumber</th>\n",
       "      <th>classNumber</th>\n",
       "      <th>className</th>\n",
       "      <th>startingTime</th>\n",
       "      <th>cueInitTime</th>\n",
       "      <th>trialTime</th>\n",
       "      <th>cueDuration</th>\n",
       "      <th>finishDuration</th>\n",
       "      <th>trialTime(legible)</th>\n",
       "    </tr>\n",
       "  </thead>\n",
       "  <tbody>\n",
       "    <tr>\n",
       "      <th>0</th>\n",
       "      <td>1</td>\n",
       "      <td>2</td>\n",
       "      <td>DERECHA</td>\n",
       "      <td>1.734636e+09</td>\n",
       "      <td>1.734636e+09</td>\n",
       "      <td>1.734636e+09</td>\n",
       "      <td>2.0</td>\n",
       "      <td>1.0</td>\n",
       "      <td>19/12/2024 16:13:34</td>\n",
       "    </tr>\n",
       "    <tr>\n",
       "      <th>1</th>\n",
       "      <td>2</td>\n",
       "      <td>2</td>\n",
       "      <td>DERECHA</td>\n",
       "      <td>1.734636e+09</td>\n",
       "      <td>1.734636e+09</td>\n",
       "      <td>1.734636e+09</td>\n",
       "      <td>2.0</td>\n",
       "      <td>1.0</td>\n",
       "      <td>19/12/2024 16:13:52</td>\n",
       "    </tr>\n",
       "    <tr>\n",
       "      <th>2</th>\n",
       "      <td>3</td>\n",
       "      <td>1</td>\n",
       "      <td>IZQUIERDA</td>\n",
       "      <td>1.734636e+09</td>\n",
       "      <td>1.734636e+09</td>\n",
       "      <td>1.734636e+09</td>\n",
       "      <td>2.0</td>\n",
       "      <td>1.0</td>\n",
       "      <td>19/12/2024 16:14:10</td>\n",
       "    </tr>\n",
       "    <tr>\n",
       "      <th>3</th>\n",
       "      <td>4</td>\n",
       "      <td>2</td>\n",
       "      <td>DERECHA</td>\n",
       "      <td>1.734636e+09</td>\n",
       "      <td>1.734636e+09</td>\n",
       "      <td>1.734636e+09</td>\n",
       "      <td>2.0</td>\n",
       "      <td>1.0</td>\n",
       "      <td>19/12/2024 16:14:28</td>\n",
       "    </tr>\n",
       "    <tr>\n",
       "      <th>4</th>\n",
       "      <td>5</td>\n",
       "      <td>1</td>\n",
       "      <td>IZQUIERDA</td>\n",
       "      <td>1.734636e+09</td>\n",
       "      <td>1.734636e+09</td>\n",
       "      <td>1.734636e+09</td>\n",
       "      <td>2.0</td>\n",
       "      <td>1.0</td>\n",
       "      <td>19/12/2024 16:14:46</td>\n",
       "    </tr>\n",
       "    <tr>\n",
       "      <th>5</th>\n",
       "      <td>6</td>\n",
       "      <td>1</td>\n",
       "      <td>IZQUIERDA</td>\n",
       "      <td>1.734636e+09</td>\n",
       "      <td>1.734636e+09</td>\n",
       "      <td>1.734636e+09</td>\n",
       "      <td>2.0</td>\n",
       "      <td>1.0</td>\n",
       "      <td>19/12/2024 16:15:04</td>\n",
       "    </tr>\n",
       "    <tr>\n",
       "      <th>6</th>\n",
       "      <td>7</td>\n",
       "      <td>2</td>\n",
       "      <td>DERECHA</td>\n",
       "      <td>1.734636e+09</td>\n",
       "      <td>1.734636e+09</td>\n",
       "      <td>1.734636e+09</td>\n",
       "      <td>2.0</td>\n",
       "      <td>1.0</td>\n",
       "      <td>19/12/2024 16:15:22</td>\n",
       "    </tr>\n",
       "    <tr>\n",
       "      <th>7</th>\n",
       "      <td>8</td>\n",
       "      <td>1</td>\n",
       "      <td>IZQUIERDA</td>\n",
       "      <td>1.734636e+09</td>\n",
       "      <td>1.734636e+09</td>\n",
       "      <td>1.734636e+09</td>\n",
       "      <td>2.0</td>\n",
       "      <td>1.0</td>\n",
       "      <td>19/12/2024 16:15:40</td>\n",
       "    </tr>\n",
       "    <tr>\n",
       "      <th>8</th>\n",
       "      <td>9</td>\n",
       "      <td>2</td>\n",
       "      <td>DERECHA</td>\n",
       "      <td>1.734636e+09</td>\n",
       "      <td>1.734636e+09</td>\n",
       "      <td>1.734636e+09</td>\n",
       "      <td>2.0</td>\n",
       "      <td>1.0</td>\n",
       "      <td>19/12/2024 16:15:58</td>\n",
       "    </tr>\n",
       "    <tr>\n",
       "      <th>9</th>\n",
       "      <td>10</td>\n",
       "      <td>1</td>\n",
       "      <td>IZQUIERDA</td>\n",
       "      <td>1.734636e+09</td>\n",
       "      <td>1.734636e+09</td>\n",
       "      <td>1.734636e+09</td>\n",
       "      <td>2.0</td>\n",
       "      <td>1.0</td>\n",
       "      <td>19/12/2024 16:16:16</td>\n",
       "    </tr>\n",
       "    <tr>\n",
       "      <th>10</th>\n",
       "      <td>11</td>\n",
       "      <td>1</td>\n",
       "      <td>IZQUIERDA</td>\n",
       "      <td>1.734636e+09</td>\n",
       "      <td>1.734636e+09</td>\n",
       "      <td>1.734636e+09</td>\n",
       "      <td>2.0</td>\n",
       "      <td>1.0</td>\n",
       "      <td>19/12/2024 16:16:34</td>\n",
       "    </tr>\n",
       "    <tr>\n",
       "      <th>11</th>\n",
       "      <td>12</td>\n",
       "      <td>2</td>\n",
       "      <td>DERECHA</td>\n",
       "      <td>1.734636e+09</td>\n",
       "      <td>1.734636e+09</td>\n",
       "      <td>1.734636e+09</td>\n",
       "      <td>2.0</td>\n",
       "      <td>1.0</td>\n",
       "      <td>19/12/2024 16:16:52</td>\n",
       "    </tr>\n",
       "    <tr>\n",
       "      <th>12</th>\n",
       "      <td>13</td>\n",
       "      <td>2</td>\n",
       "      <td>DERECHA</td>\n",
       "      <td>1.734636e+09</td>\n",
       "      <td>1.734636e+09</td>\n",
       "      <td>1.734636e+09</td>\n",
       "      <td>2.0</td>\n",
       "      <td>1.0</td>\n",
       "      <td>19/12/2024 16:17:10</td>\n",
       "    </tr>\n",
       "    <tr>\n",
       "      <th>13</th>\n",
       "      <td>14</td>\n",
       "      <td>1</td>\n",
       "      <td>IZQUIERDA</td>\n",
       "      <td>1.734636e+09</td>\n",
       "      <td>1.734636e+09</td>\n",
       "      <td>1.734636e+09</td>\n",
       "      <td>2.0</td>\n",
       "      <td>1.0</td>\n",
       "      <td>19/12/2024 16:17:27</td>\n",
       "    </tr>\n",
       "    <tr>\n",
       "      <th>14</th>\n",
       "      <td>15</td>\n",
       "      <td>1</td>\n",
       "      <td>IZQUIERDA</td>\n",
       "      <td>1.734636e+09</td>\n",
       "      <td>1.734636e+09</td>\n",
       "      <td>1.734636e+09</td>\n",
       "      <td>2.0</td>\n",
       "      <td>1.0</td>\n",
       "      <td>19/12/2024 16:17:45</td>\n",
       "    </tr>\n",
       "    <tr>\n",
       "      <th>15</th>\n",
       "      <td>16</td>\n",
       "      <td>1</td>\n",
       "      <td>IZQUIERDA</td>\n",
       "      <td>1.734636e+09</td>\n",
       "      <td>1.734636e+09</td>\n",
       "      <td>1.734636e+09</td>\n",
       "      <td>2.0</td>\n",
       "      <td>1.0</td>\n",
       "      <td>19/12/2024 16:18:03</td>\n",
       "    </tr>\n",
       "    <tr>\n",
       "      <th>16</th>\n",
       "      <td>17</td>\n",
       "      <td>2</td>\n",
       "      <td>DERECHA</td>\n",
       "      <td>1.734636e+09</td>\n",
       "      <td>1.734636e+09</td>\n",
       "      <td>1.734636e+09</td>\n",
       "      <td>2.0</td>\n",
       "      <td>1.0</td>\n",
       "      <td>19/12/2024 16:18:21</td>\n",
       "    </tr>\n",
       "    <tr>\n",
       "      <th>17</th>\n",
       "      <td>18</td>\n",
       "      <td>2</td>\n",
       "      <td>DERECHA</td>\n",
       "      <td>1.734636e+09</td>\n",
       "      <td>1.734636e+09</td>\n",
       "      <td>1.734636e+09</td>\n",
       "      <td>2.0</td>\n",
       "      <td>1.0</td>\n",
       "      <td>19/12/2024 16:18:39</td>\n",
       "    </tr>\n",
       "    <tr>\n",
       "      <th>18</th>\n",
       "      <td>19</td>\n",
       "      <td>2</td>\n",
       "      <td>DERECHA</td>\n",
       "      <td>1.734636e+09</td>\n",
       "      <td>1.734636e+09</td>\n",
       "      <td>1.734636e+09</td>\n",
       "      <td>2.0</td>\n",
       "      <td>1.0</td>\n",
       "      <td>19/12/2024 16:18:57</td>\n",
       "    </tr>\n",
       "    <tr>\n",
       "      <th>19</th>\n",
       "      <td>20</td>\n",
       "      <td>1</td>\n",
       "      <td>IZQUIERDA</td>\n",
       "      <td>1.734636e+09</td>\n",
       "      <td>1.734636e+09</td>\n",
       "      <td>1.734636e+09</td>\n",
       "      <td>2.0</td>\n",
       "      <td>1.0</td>\n",
       "      <td>19/12/2024 16:19:15</td>\n",
       "    </tr>\n",
       "  </tbody>\n",
       "</table>\n",
       "</div>"
      ],
      "text/plain": [
       "    trialNumber  classNumber  className  startingTime   cueInitTime  \\\n",
       "0             1            2    DERECHA  1.734636e+09  1.734636e+09   \n",
       "1             2            2    DERECHA  1.734636e+09  1.734636e+09   \n",
       "2             3            1  IZQUIERDA  1.734636e+09  1.734636e+09   \n",
       "3             4            2    DERECHA  1.734636e+09  1.734636e+09   \n",
       "4             5            1  IZQUIERDA  1.734636e+09  1.734636e+09   \n",
       "5             6            1  IZQUIERDA  1.734636e+09  1.734636e+09   \n",
       "6             7            2    DERECHA  1.734636e+09  1.734636e+09   \n",
       "7             8            1  IZQUIERDA  1.734636e+09  1.734636e+09   \n",
       "8             9            2    DERECHA  1.734636e+09  1.734636e+09   \n",
       "9            10            1  IZQUIERDA  1.734636e+09  1.734636e+09   \n",
       "10           11            1  IZQUIERDA  1.734636e+09  1.734636e+09   \n",
       "11           12            2    DERECHA  1.734636e+09  1.734636e+09   \n",
       "12           13            2    DERECHA  1.734636e+09  1.734636e+09   \n",
       "13           14            1  IZQUIERDA  1.734636e+09  1.734636e+09   \n",
       "14           15            1  IZQUIERDA  1.734636e+09  1.734636e+09   \n",
       "15           16            1  IZQUIERDA  1.734636e+09  1.734636e+09   \n",
       "16           17            2    DERECHA  1.734636e+09  1.734636e+09   \n",
       "17           18            2    DERECHA  1.734636e+09  1.734636e+09   \n",
       "18           19            2    DERECHA  1.734636e+09  1.734636e+09   \n",
       "19           20            1  IZQUIERDA  1.734636e+09  1.734636e+09   \n",
       "\n",
       "       trialTime  cueDuration  finishDuration   trialTime(legible)  \n",
       "0   1.734636e+09          2.0             1.0  19/12/2024 16:13:34  \n",
       "1   1.734636e+09          2.0             1.0  19/12/2024 16:13:52  \n",
       "2   1.734636e+09          2.0             1.0  19/12/2024 16:14:10  \n",
       "3   1.734636e+09          2.0             1.0  19/12/2024 16:14:28  \n",
       "4   1.734636e+09          2.0             1.0  19/12/2024 16:14:46  \n",
       "5   1.734636e+09          2.0             1.0  19/12/2024 16:15:04  \n",
       "6   1.734636e+09          2.0             1.0  19/12/2024 16:15:22  \n",
       "7   1.734636e+09          2.0             1.0  19/12/2024 16:15:40  \n",
       "8   1.734636e+09          2.0             1.0  19/12/2024 16:15:58  \n",
       "9   1.734636e+09          2.0             1.0  19/12/2024 16:16:16  \n",
       "10  1.734636e+09          2.0             1.0  19/12/2024 16:16:34  \n",
       "11  1.734636e+09          2.0             1.0  19/12/2024 16:16:52  \n",
       "12  1.734636e+09          2.0             1.0  19/12/2024 16:17:10  \n",
       "13  1.734636e+09          2.0             1.0  19/12/2024 16:17:27  \n",
       "14  1.734636e+09          2.0             1.0  19/12/2024 16:17:45  \n",
       "15  1.734636e+09          2.0             1.0  19/12/2024 16:18:03  \n",
       "16  1.734636e+09          2.0             1.0  19/12/2024 16:18:21  \n",
       "17  1.734636e+09          2.0             1.0  19/12/2024 16:18:39  \n",
       "18  1.734636e+09          2.0             1.0  19/12/2024 16:18:57  \n",
       "19  1.734636e+09          2.0             1.0  19/12/2024 16:19:15  "
      ]
     },
     "execution_count": 4,
     "metadata": {},
     "output_type": "execute_result"
    }
   ],
   "source": [
    "eventos"
   ]
  },
  {
   "cell_type": "markdown",
   "metadata": {
    "id": "TAVKAuBPxwB3"
   },
   "source": [
    "El dataframe anterior muestra información referente a los eventos registrados por el software generado en Python."
   ]
  },
  {
   "cell_type": "code",
   "execution_count": 5,
   "metadata": {
    "id": "gaR01Po2xwB4",
    "outputId": "dc3e9411-92be-4f46-e453-0eceedd4e993"
   },
   "outputs": [
    {
     "data": {
      "text/plain": [
       "0           NaN\n",
       "1     17.966480\n",
       "2     17.953408\n",
       "3     17.969898\n",
       "4     17.969877\n",
       "5     17.949945\n",
       "6     17.969109\n",
       "7     17.970497\n",
       "8     17.959137\n",
       "9     17.950863\n",
       "10    17.970294\n",
       "11    17.949565\n",
       "12    17.950322\n",
       "13    17.957152\n",
       "14    17.952523\n",
       "15    17.950562\n",
       "16    17.950408\n",
       "17    17.955626\n",
       "18    17.954846\n",
       "19    17.948998\n",
       "Name: startingTime, dtype: float64"
      ]
     },
     "execution_count": 5,
     "metadata": {},
     "output_type": "execute_result"
    }
   ],
   "source": [
    "##tomo la columna startingTime y resto cada fila con la anterior para obtener la duracion de cada evento\n",
    "eventos['startingTime'].diff()"
   ]
  },
  {
   "cell_type": "code",
   "execution_count": 6,
   "metadata": {
    "id": "CJEsdlRyxwB5",
    "outputId": "fe363089-e8f2-4c53-baec-79e445eea0fe"
   },
   "outputs": [
    {
     "data": {
      "text/plain": [
       "np.float64(7.186143567596499e-05)"
      ]
     },
     "execution_count": 6,
     "metadata": {},
     "output_type": "execute_result"
    }
   ],
   "source": [
    "eventos['startingTime'].diff().mean()\n",
    "eventos['startingTime'].diff().var()"
   ]
  },
  {
   "cell_type": "markdown",
   "metadata": {
    "id": "RjyMVt47xwB6"
   },
   "source": [
    "El tiempo promedio de cada trial fue de $17.96$ segundos."
   ]
  },
  {
   "cell_type": "markdown",
   "metadata": {
    "id": "elhi4lqnxwB6"
   },
   "source": [
    "## Cargando archivos hdf5\n",
    "\n",
    "A continuación vamos a cargar el archivo generado por el *g.HIAMP*. El formato del archivo es *HDF5* el cual es un formato especial para el registro de biopotenciales.\n",
    "\n",
    "Podemos usar una librería de Python para cargar la información en una variable a partir de ahí, procesar la señal."
   ]
  },
  {
   "cell_type": "code",
   "execution_count": 7,
   "metadata": {
    "id": "33hbcL57xwB7"
   },
   "outputs": [],
   "source": [
    "fm = 512 #frecuencia de muestreo"
   ]
  },
  {
   "cell_type": "code",
   "execution_count": 8,
   "metadata": {
    "id": "oL0NkBUtxwB9"
   },
   "outputs": [],
   "source": [
    "##cargo 1. agus_base_oa.hdf5\n",
    "raw_base_data = h5py.File('5. agus_imag.hdf5', 'r')"
   ]
  },
  {
   "cell_type": "code",
   "execution_count": 9,
   "metadata": {
    "id": "vgmYDDu8xwB9",
    "outputId": "1ffe916f-2c6a-400d-e543-5546f27713a4"
   },
   "outputs": [
    {
     "data": {
      "text/plain": [
       "<KeysViewHDF5 ['AsynchronData', 'RawData', 'SavedFeatues', 'Version']>"
      ]
     },
     "execution_count": 9,
     "metadata": {},
     "output_type": "execute_result"
    }
   ],
   "source": [
    "raw_base_data.keys()"
   ]
  },
  {
   "cell_type": "code",
   "execution_count": 10,
   "metadata": {
    "id": "WSVnrZn9xwB_"
   },
   "outputs": [
    {
     "data": {
      "text/plain": [
       "<HDF5 dataset \"NumberOfFeatures\": shape (1,), type \"<i4\">"
      ]
     },
     "execution_count": 10,
     "metadata": {},
     "output_type": "execute_result"
    }
   ],
   "source": [
    "raw_base_data[\"SavedFeatues\"][\"NumberOfFeatures\"]"
   ]
  },
  {
   "cell_type": "code",
   "execution_count": 11,
   "metadata": {
    "id": "wRqcvzI9xwCD",
    "outputId": "bba3b424-1d90-4ef7-8c15-3ab9503d9570"
   },
   "outputs": [
    {
     "name": "stdout",
     "output_type": "stream",
     "text": [
      "[22264]\n"
     ]
    }
   ],
   "source": [
    "# print(raw_base_data[\"AsynchronData\"].keys())\n",
    "print(raw_base_data[\"AsynchronData\"][\"Time\"][0])"
   ]
  },
  {
   "cell_type": "code",
   "execution_count": 12,
   "metadata": {
    "id": "QN87azKtxwCE",
    "outputId": "e09c82ff-bfc9-41c7-e947-89a5f05b8960"
   },
   "outputs": [
    {
     "data": {
      "text/plain": [
       "array([2], dtype=int32)"
      ]
     },
     "execution_count": 12,
     "metadata": {},
     "output_type": "execute_result"
    }
   ],
   "source": [
    "raw_base_data[\"AsynchronData\"][\"TypeID\"][1]"
   ]
  },
  {
   "cell_type": "markdown",
   "metadata": {
    "id": "P0J2epNuxwCE"
   },
   "source": [
    "### Analizando marcado de eventos\n",
    "\n",
    "A continuación vamos a evaluar los eventos externos registrados desde la trigBOX a partir de los sensores ópticos ubicados sobre la pantalla."
   ]
  },
  {
   "cell_type": "code",
   "execution_count": 13,
   "metadata": {
    "id": "_cbkoT4cxwCK",
    "outputId": "ac84fb3d-5f8a-4edd-fceb-32e59962621c"
   },
   "outputs": [
    {
     "name": "stdout",
     "output_type": "stream",
     "text": [
      "Marcador número: 0\n",
      "Valor decimal: 3\n",
      "Valor binario: 0b11\n",
      "\n",
      "Marcador número: 1\n",
      "Valor decimal: 2\n",
      "Valor binario: 0b10\n",
      "\n",
      "Marcador número: 2\n",
      "Valor decimal: 2\n",
      "Valor binario: 0b10\n",
      "\n",
      "Marcador número: 3\n",
      "Valor decimal: 2\n",
      "Valor binario: 0b10\n",
      "\n",
      "Marcador número: 4\n",
      "Valor decimal: 2\n",
      "Valor binario: 0b10\n",
      "\n"
     ]
    }
   ],
   "source": [
    "for i, type_asyncdata in enumerate(raw_base_data[\"AsynchronData\"][\"TypeID\"][:5]):\n",
    "    print(\"Marcador número:\", i)\n",
    "    print(\"Valor decimal:\", type_asyncdata[0])\n",
    "    print(\"Valor binario:\", bin(int(type_asyncdata[0])))\n",
    "    print()"
   ]
  },
  {
   "cell_type": "markdown",
   "metadata": {
    "id": "221BnBh2xwCK"
   },
   "source": [
    "Se muestran los primeros 5 eventos. El primer evento corresponde al sensor óptico que indica el inicio de la sesión. Los siguientes eventos corresponden al sensor óptico que marca el inicio de un nuevo *trial*."
   ]
  },
  {
   "cell_type": "markdown",
   "metadata": {
    "id": "upkRCcNXxwC-"
   },
   "source": [
    "**Al parecer, se configuró los triggers para que trabajen de manera *combinada*.** HAY QUE CHEQUEAR ESTO.\n",
    "\n",
    "Según el manual, los triggers pueden marcar los eventos de manera sperada o combinada, a saber:\n",
    "\n",
    "> **INDIVIDUAL TRIGGERS**: By default, trigger channels selected for acquisition are treated individually. Depending on their\n",
    "configuration, each occurrence of such a trigger channel is represented as a separate event with a\n",
    "value of HIGH (H) for rising edges or LOW (L) for falling edges.\n",
    "\n",
    "> **COMBINED TRIGGERS**: The individual trigger channels can also be combined per device. In this mode, all trigger channels of a device are represented by the same event for that device and the value is a binary coded decimal made\n",
    "up of the current high or low values of the individual trigger channels. For instance, a combined decimal\n",
    "value of 10 is achieved when trigger channels 2 and 4 are high; this gives a binary code of 0000 1010b\n",
    "where the least significant bit (right-most) is trigger channel 1 which is low (zero), then trigger channel\n",
    "2 is high (1), trigger channel 3 is low (zero), trigger channel 4 is high (1) and channels 5 to 8 at the leftmost are low (0). Similarly, a combined decimal value of 3 is achieved when trigger channels 1 and 2 are high, resulting in a binary code of 0000 0011b. The triggers are represented as vertical lines including a description consisting of device's serial number, combined trigger tag, event code and name."
   ]
  },
  {
   "cell_type": "markdown",
   "metadata": {
    "id": "R1mR4M0MxwC_"
   },
   "source": [
    "## Tiempos en que se registraron los eventos\n",
    "\n",
    "A continuación vamos a ver cuando se registraron los eventos según el *g.recorder*."
   ]
  },
  {
   "cell_type": "code",
   "execution_count": 14,
   "metadata": {
    "id": "WwR0Hb8QxwDA",
    "outputId": "fa40b7cd-a819-4117-877a-d9a478bde8c0"
   },
   "outputs": [
    {
     "name": "stdout",
     "output_type": "stream",
     "text": [
      "43.484375\n",
      "59.05859375\n",
      "77.04296875\n",
      "94.994140625\n",
      "112.98046875\n",
      "130.9140625\n",
      "148.884765625\n",
      "166.849609375\n",
      "184.818359375\n",
      "202.771484375\n",
      "220.720703125\n",
      "238.689453125\n",
      "256.640625\n",
      "274.591796875\n",
      "292.544921875\n",
      "310.513671875\n",
      "328.4609375\n",
      "346.431640625\n",
      "364.36328125\n",
      "382.314453125\n",
      "400.283203125\n"
     ]
    }
   ],
   "source": [
    "##imprimimos los segundos a los que sucedieron los eventos marcados\n",
    "triggers =  raw_base_data[\"AsynchronData\"][\"Time\"]\n",
    "for trigger_i in triggers:\n",
    "    print(trigger_i[0]/fm)"
   ]
  },
  {
   "cell_type": "markdown",
   "metadata": {
    "id": "S1v3_PoQxwDB"
   },
   "source": [
    "#### ¿Qué nos dicen estos valores?\n",
    "\n",
    "- El primer tiempo registrado a los $39.9335$ segundos corresponde, según nuestro setup experimental, al sensor óptico número 2, el cual, en este caso, se corresponde con el inicio de la sesión.\n",
    "- En base a nuestro setup experimental, los tiempos restantes se corresponden a los eventos de inicio de cada trial."
   ]
  },
  {
   "cell_type": "code",
   "execution_count": 15,
   "metadata": {
    "id": "1dFDdO_XxwDB"
   },
   "outputs": [],
   "source": [
    "##duración de cada trial\n",
    "trials_time = []\n",
    "for i in range(2, len(raw_base_data[\"AsynchronData\"][\"Time\"])):\n",
    "    trials_time.append((raw_base_data[\"AsynchronData\"][\"Time\"][i] - raw_base_data[\"AsynchronData\"][\"Time\"][i-1])/fm)\n",
    "\n",
    "trials_time = np.array(trials_time).reshape(-1)"
   ]
  },
  {
   "cell_type": "code",
   "execution_count": 16,
   "metadata": {
    "id": "UBrn3FNVxwDB",
    "outputId": "e35dbac9-fe3a-40f2-e383-2637ed624266"
   },
   "outputs": [
    {
     "name": "stdout",
     "output_type": "stream",
     "text": [
      "[17.984375   17.95117188 17.98632812 17.93359375 17.97070312 17.96484375\n",
      " 17.96875    17.953125   17.94921875 17.96875    17.95117188 17.95117188\n",
      " 17.953125   17.96875    17.94726562 17.97070312 17.93164062 17.95117188\n",
      " 17.96875   ]\n",
      "17.959189967105264\n",
      "0.014545550637851182\n"
     ]
    }
   ],
   "source": [
    "print(trials_time)\n",
    "print(np.mean(trials_time))\n",
    "print(np.std(trials_time))"
   ]
  },
  {
   "cell_type": "markdown",
   "metadata": {
    "id": "IBB92E-6xwDC"
   },
   "source": [
    "Para este caso, la duración promedio de cada trial es de $17.96$ segundos.\n",
    "\n",
    "**IMPORTANTE:** Debemos notar que este valor concuerda con los valores registrados en el archivo de eventos generado a partir del script de Python que usamos para estimular a la persona."
   ]
  },
  {
   "cell_type": "markdown",
   "metadata": {
    "id": "IEtoHvQOxwDC"
   },
   "source": [
    "## Revisando señales\n",
    "\n",
    "A continuación analizaremos rápidamente la señal de EEG y EMG registrada en el experimento."
   ]
  },
  {
   "cell_type": "code",
   "execution_count": 17,
   "metadata": {
    "id": "vnNJlxN6xwDC",
    "outputId": "1f2a8d01-62e5-44fd-85bd-c715a5aeb7cd"
   },
   "outputs": [
    {
     "data": {
      "text/plain": [
       "<KeysViewHDF5 ['AcquisitionTaskDescription', 'DAQDeviceCapabilities', 'DAQDeviceDescription', 'Samples', 'SessionDescription', 'SubjectDescription']>"
      ]
     },
     "execution_count": 17,
     "metadata": {},
     "output_type": "execute_result"
    }
   ],
   "source": [
    "raw_base_data[\"RawData\"].keys()"
   ]
  },
  {
   "cell_type": "code",
   "execution_count": 18,
   "metadata": {
    "id": "2SppZwFYxwDC",
    "outputId": "061f67ed-66db-43df-c810-276cdcc2c9f4"
   },
   "outputs": [
    {
     "data": {
      "text/plain": [
       "(211827, 67)"
      ]
     },
     "execution_count": 18,
     "metadata": {},
     "output_type": "execute_result"
    }
   ],
   "source": [
    "raw_eeg = raw_base_data[\"RawData\"][\"Samples\"][:]\n",
    "raw_eeg.shape"
   ]
  },
  {
   "cell_type": "markdown",
   "metadata": {
    "id": "l1EHStTHxwDD"
   },
   "source": [
    "De lo anterior podemos ver que la forma de los datos es de la forma $211827 \\times 67$, es decir, tenemos $211827$ muestras y $67$ canales de registro.\n",
    "\n",
    "Vamos a cambiar a la forma $canales \\times muestras$."
   ]
  },
  {
   "cell_type": "code",
   "execution_count": 19,
   "metadata": {
    "id": "QW-Qo3cLxwDD"
   },
   "outputs": [],
   "source": [
    "raw_eeg = raw_eeg.swapaxes(0, 1)"
   ]
  },
  {
   "cell_type": "code",
   "execution_count": 20,
   "metadata": {
    "id": "U88mx2rsxwDD",
    "outputId": "36e693c5-e3a7-4bb2-868d-32d03dee1078"
   },
   "outputs": [
    {
     "name": "stdout",
     "output_type": "stream",
     "text": [
      "(67, 211827)\n"
     ]
    }
   ],
   "source": [
    "print(raw_eeg.shape)\n",
    "canales, muestras = raw_eeg.shape"
   ]
  },
  {
   "cell_type": "markdown",
   "metadata": {
    "id": "8AptCP9oxwDE"
   },
   "source": [
    "#### Qitando algunos canales\n",
    "\n",
    "Vamos a quitar los canales 64, 66 y 67. El canal 64 es la referencia para EEG, el canal 66 posee la misma señal de EMG que el canal 65 pero con la polaridad invertida. Finalmente, el canal 67 es la referencia para el registro de EMG entre los electrodos 65 y 66."
   ]
  },
  {
   "cell_type": "code",
   "execution_count": 21,
   "metadata": {
    "id": "ISSIBRuTxwDF"
   },
   "outputs": [],
   "source": [
    "##quito canales 64, 66 y 67\n",
    "raw_eeg = np.delete(raw_eeg, [64-1, 66-1, 67-1], axis=0)"
   ]
  },
  {
   "cell_type": "code",
   "execution_count": 22,
   "metadata": {
    "id": "JIDG76XYxwDF",
    "outputId": "6aaf8ed0-5225-44ae-a0ca-04d6668c466d"
   },
   "outputs": [
    {
     "name": "stdout",
     "output_type": "stream",
     "text": [
      "(64, 211827)\n"
     ]
    }
   ],
   "source": [
    "print(raw_eeg.shape)\n",
    "canales, muestras = raw_eeg.shape"
   ]
  },
  {
   "cell_type": "markdown",
   "metadata": {
    "id": "wZHT5V9KxwDF"
   },
   "source": [
    "### Filtrando la señal"
   ]
  },
  {
   "cell_type": "code",
   "execution_count": 23,
   "metadata": {
    "id": "aSzuwA8BxwDG"
   },
   "outputs": [],
   "source": [
    "from SignalProcessor.Filter import Filter"
   ]
  },
  {
   "cell_type": "code",
   "execution_count": 24,
   "metadata": {
    "id": "fv1z5MzuxwDG"
   },
   "outputs": [],
   "source": [
    "filtro = Filter(lowcut=7, highcut=13, notch_freq=50.0, notch_width=2.0, sample_rate=512.0)"
   ]
  },
  {
   "cell_type": "markdown",
   "metadata": {
    "id": "7jBKSEEwxwDG"
   },
   "source": [
    "El método *fit_transform* de la clase *Filter* espera los datos de la forma $[trials, canales, muestras]$. Más información en [Librería Neuroiatools](https://github.com/lucasbaldezzari/neuroiatools).\n",
    "\n",
    "Para esto, vamos a agregar una dimensión más a nuestro array."
   ]
  },
  {
   "cell_type": "code",
   "execution_count": 25,
   "metadata": {
    "id": "xG6zWR1IxwDH",
    "outputId": "990e2bb0-8ade-48e7-95ff-f3175d8753be"
   },
   "outputs": [
    {
     "data": {
      "text/plain": [
       "(1, 64, 211827)"
      ]
     },
     "execution_count": 25,
     "metadata": {},
     "output_type": "execute_result"
    }
   ],
   "source": [
    "raw_eeg = raw_eeg.reshape(1, canales, muestras)\n",
    "raw_eeg.shape"
   ]
  },
  {
   "cell_type": "code",
   "execution_count": 26,
   "metadata": {
    "id": "Fb16STd9xwDP"
   },
   "outputs": [],
   "source": [
    "filtered_eeg = filtro.fit_transform(raw_eeg)"
   ]
  },
  {
   "cell_type": "code",
   "execution_count": 27,
   "metadata": {
    "id": "CSX6ua85xwDQ",
    "outputId": "59a1a8b5-e0b9-4335-abe5-7686ec40b8ff"
   },
   "outputs": [
    {
     "data": {
      "text/plain": [
       "(64, 211827)"
      ]
     },
     "execution_count": 27,
     "metadata": {},
     "output_type": "execute_result"
    }
   ],
   "source": [
    "##volvemos a la dimension original\n",
    "filtered_eeg = filtered_eeg.reshape(canales, muestras)\n",
    "filtered_eeg.shape"
   ]
  },
  {
   "cell_type": "markdown",
   "metadata": {
    "id": "isdQXFq4xwDQ"
   },
   "source": [
    "**IMPORTANTE**: Averiguar los nombres de los electrodos.\n",
    "\n",
    "De momento, lo que puedo inferir es que electrodo Cz es el 30, el 28 es el C3 y 32 es el C4. *Pero debo revisar*."
   ]
  },
  {
   "cell_type": "code",
   "execution_count": 28,
   "metadata": {
    "id": "rBHWF-wnxwDR",
    "outputId": "bc3c6030-cac4-4857-b5b0-ad4a87bcdb79"
   },
   "outputs": [
    {
     "data": {
      "image/png": "[encoded data removed]",
      "text/plain": [
       "<Figure size 1500x600 with 2 Axes>"
      ]
     },
     "metadata": {},
     "output_type": "display_data"
    }
   ],
   "source": [
    "##ploteamos un canal desde ti hasta tf\n",
    "trial = 15\n",
    "trigger_i = round(triggers[trial][0]/fm,2)\n",
    "\n",
    "t_fi = 0.5 #tiempo fade-in\n",
    "t_cue = 2 #tiempo cue\n",
    "t_fo = 1 #tiempo fade-out\n",
    "\n",
    "ti = int((trigger_i-2)*fm) #tiempo inicial en segundos\n",
    "tf = int((trigger_i+6)*fm)\n",
    "c1, c2 = 32, 34\n",
    "\n",
    "ejet = np.arange(0, muestras)/fm\n",
    "fig, axs = plt.subplots(2, 1, figsize=(15, 6))\n",
    "\n",
    "eeg1, eeg2 = filtered_eeg[c1-1, ti:tf], filtered_eeg[c2-1, ti:tf]\n",
    "##me quedo con los valores máximos y mínimos entre eeg1 y eeg2\n",
    "max_eeg = max(max(eeg1), max(eeg2))\n",
    "min_eeg = min(min(eeg1), min(eeg2))\n",
    "ejet1, ejet2 = ejet[ti:tf], ejet[ti:tf]\n",
    "\n",
    "##calculo el logaritmo de la varianza de cada canal\n",
    "eeg1_forlogvar, eeg2_forlogvar = eeg1[:int((t_fi+t_cue)*fm)], eeg2[:int((t_fi+t_cue)*fm)]\n",
    "logvar_eeg1, logvar_eeg2 = np.log(np.var(eeg1_forlogvar)), np.log(np.var(eeg2_forlogvar))\n",
    "\n",
    "axs[0].plot(ejet1,eeg1, label = f'C3', color = \"#332233\")\n",
    "axs[1].plot(ejet2,eeg2, label = f'C4', color  =\"#332233\")\n",
    "\n",
    "##sombras para marcado de tiempos\n",
    "axs[0].axvspan(trigger_i-t_fi, trigger_i, alpha=0.2, color='yellow', label = \"Fade-in\")\n",
    "axs[1].axvspan(trigger_i-t_fi, trigger_i, alpha=0.2, color='yellow', label = \"Fade-in\")\n",
    "axs[0].axvspan(trigger_i, trigger_i+t_cue, alpha=0.2, color='green', label = \"Cue\")\n",
    "axs[1].axvspan(trigger_i, trigger_i+t_cue, alpha=0.2, color='green', label = \"Cue\")\n",
    "axs[0].axvspan(trigger_i+t_cue, trigger_i+t_cue+t_fo, alpha=0.2, color='blue', label = \"Fade-out\")\n",
    "axs[1].axvspan(trigger_i+t_cue, trigger_i+t_cue+t_fo, alpha=0.2, color='blue', label = \"Fade-out\")\n",
    "\n",
    "##agrego texto con el valor de logvar_eeg1 y logvar_eeg2.\n",
    "axs[0].text(trigger_i+0.1, max_eeg-2, f\"logvar C3: {round(logvar_eeg1,2)}\", fontsize=12, color='black')\n",
    "axs[1].text(trigger_i+0.1, max_eeg-2, f\"logvar C4: {round(logvar_eeg2,2)}\", fontsize=12, color='black')\n",
    "\n",
    "axs[0].set_title(f\"C3\")\n",
    "axs[1].set_title(f\"C4\")\n",
    "\n",
    "axs[0].axvline(x=trigger_i, color='r', linestyle='--', label=f'Evento a los {trigger_i} s')\n",
    "axs[1].axvline(x=trigger_i, color='r', linestyle='--', label=f'Evento a los {trigger_i} s')\n",
    "\n",
    "axs[0].grid()\n",
    "axs[1].grid()\n",
    "\n",
    "axs[0].set_xlabel(\"Tiempo [s]\")\n",
    "axs[0].set_ylabel(\"Amplitud [uV]\")\n",
    "axs[0].legend(loc = \"upper right\")\n",
    "\n",
    "axs[1].set_xlabel(\"Tiempo [s]\")\n",
    "axs[1].set_ylabel(\"Amplitud [uV]\")\n",
    "axs[1].legend(loc = \"upper right\")\n",
    "\n",
    "##limite eje y para ambos canales\n",
    "axs[0].set_ylim([min_eeg-2, max_eeg+2])\n",
    "axs[1].set_ylim([min_eeg-2, max_eeg+2])\n",
    "\n",
    "plt.suptitle((f\"EEG  desde {round(ti/fm,2)} a {round(tf/fm,2)} segundos - Trial {trial} - Tarea {eventos.loc[trial-1]['className']}\"))\n",
    "plt.tight_layout()\n",
    "plt.show()\n"
   ]
  },
  {
   "cell_type": "markdown",
   "metadata": {
    "id": "s4q8O9gSxwDR"
   },
   "source": [
    "La gráfica anterior muetra la señal de EEG para los canales C3 y C4. La línea verticual roja muestra el incio del trial."
   ]
  },
  {
   "cell_type": "code",
   "execution_count": 29,
   "metadata": {
    "id": "XK6gz9sKxwDR"
   },
   "outputs": [],
   "source": [
    "# eeg_tosave = raw_eeg.reshape(canales, muestras)\n",
    "# ##guardo eeg_tosave en un archivo .hdf5\n",
    "# with h5py.File(\"raweeg_imagined_tasks.hdf5\", \"w\") as f:\n",
    "#     f.create_dataset(\"raw_eeg\", data=eeg_tosave)"
   ]
  },
  {
   "cell_type": "code",
   "execution_count": 30,
   "metadata": {
    "id": "z8ZG-Ed6xwDS"
   },
   "outputs": [],
   "source": [
    "# classname = eventos[\"className\"].values\n",
    "# classname\n",
    "# events_time = raw_base_data[\"AsynchronData\"][\"Time\"][:][1:].reshape(-1)\n",
    "\n",
    "# df = pd.DataFrame({\"event_time\": events_time, \"class_name\": classname})\n",
    "# df.to_csv(\"events_imagined_tasks.txt\", index=False, sep=\",\", header=True)"
   ]
  },
  {
   "cell_type": "code",
   "execution_count": 31,
   "metadata": {},
   "outputs": [
    {
     "data": {
      "text/html": [
       "<div>\n",
       "<style scoped>\n",
       "    .dataframe tbody tr th:only-of-type {\n",
       "        vertical-align: middle;\n",
       "    }\n",
       "\n",
       "    .dataframe tbody tr th {\n",
       "        vertical-align: top;\n",
       "    }\n",
       "\n",
       "    .dataframe thead th {\n",
       "        text-align: right;\n",
       "    }\n",
       "</style>\n",
       "<table border=\"1\" class=\"dataframe\">\n",
       "  <thead>\n",
       "    <tr style=\"text-align: right;\">\n",
       "      <th></th>\n",
       "      <th>trialNumber</th>\n",
       "      <th>classNumber</th>\n",
       "      <th>className</th>\n",
       "      <th>startingTime</th>\n",
       "      <th>cueInitTime</th>\n",
       "      <th>trialDuration</th>\n",
       "      <th>cueDuration</th>\n",
       "      <th>finishDuration</th>\n",
       "      <th>fadeInDuration</th>\n",
       "      <th>startingTime(legible)</th>\n",
       "    </tr>\n",
       "  </thead>\n",
       "  <tbody>\n",
       "    <tr>\n",
       "      <th>0</th>\n",
       "      <td>1</td>\n",
       "      <td>2</td>\n",
       "      <td>DERECHA</td>\n",
       "      <td>1.739914e+09</td>\n",
       "      <td>1.739914e+09</td>\n",
       "      <td>1.739914e+09</td>\n",
       "      <td>2.0</td>\n",
       "      <td>1.0</td>\n",
       "      <td>0.320427</td>\n",
       "      <td>18/02/2025 18:21:37</td>\n",
       "    </tr>\n",
       "    <tr>\n",
       "      <th>1</th>\n",
       "      <td>2</td>\n",
       "      <td>2</td>\n",
       "      <td>DERECHA</td>\n",
       "      <td>1.739914e+09</td>\n",
       "      <td>1.739914e+09</td>\n",
       "      <td>1.739914e+09</td>\n",
       "      <td>2.0</td>\n",
       "      <td>1.0</td>\n",
       "      <td>0.321408</td>\n",
       "      <td>18/02/2025 18:21:53</td>\n",
       "    </tr>\n",
       "    <tr>\n",
       "      <th>2</th>\n",
       "      <td>3</td>\n",
       "      <td>1</td>\n",
       "      <td>IZQUIERDA</td>\n",
       "      <td>1.739914e+09</td>\n",
       "      <td>1.739914e+09</td>\n",
       "      <td>1.739914e+09</td>\n",
       "      <td>2.0</td>\n",
       "      <td>1.0</td>\n",
       "      <td>0.320933</td>\n",
       "      <td>18/02/2025 18:22:10</td>\n",
       "    </tr>\n",
       "    <tr>\n",
       "      <th>3</th>\n",
       "      <td>4</td>\n",
       "      <td>1</td>\n",
       "      <td>IZQUIERDA</td>\n",
       "      <td>1.739914e+09</td>\n",
       "      <td>1.739914e+09</td>\n",
       "      <td>1.739914e+09</td>\n",
       "      <td>2.0</td>\n",
       "      <td>1.0</td>\n",
       "      <td>0.309372</td>\n",
       "      <td>18/02/2025 18:22:26</td>\n",
       "    </tr>\n",
       "    <tr>\n",
       "      <th>4</th>\n",
       "      <td>5</td>\n",
       "      <td>2</td>\n",
       "      <td>DERECHA</td>\n",
       "      <td>1.739914e+09</td>\n",
       "      <td>1.739914e+09</td>\n",
       "      <td>1.739914e+09</td>\n",
       "      <td>2.0</td>\n",
       "      <td>1.0</td>\n",
       "      <td>0.320359</td>\n",
       "      <td>18/02/2025 18:22:44</td>\n",
       "    </tr>\n",
       "    <tr>\n",
       "      <th>5</th>\n",
       "      <td>6</td>\n",
       "      <td>1</td>\n",
       "      <td>IZQUIERDA</td>\n",
       "      <td>1.739914e+09</td>\n",
       "      <td>1.739914e+09</td>\n",
       "      <td>1.739914e+09</td>\n",
       "      <td>2.0</td>\n",
       "      <td>1.0</td>\n",
       "      <td>0.310423</td>\n",
       "      <td>18/02/2025 18:23:01</td>\n",
       "    </tr>\n",
       "    <tr>\n",
       "      <th>6</th>\n",
       "      <td>7</td>\n",
       "      <td>2</td>\n",
       "      <td>DERECHA</td>\n",
       "      <td>1.739914e+09</td>\n",
       "      <td>1.739914e+09</td>\n",
       "      <td>1.739914e+09</td>\n",
       "      <td>2.0</td>\n",
       "      <td>1.0</td>\n",
       "      <td>0.316634</td>\n",
       "      <td>18/02/2025 18:23:17</td>\n",
       "    </tr>\n",
       "    <tr>\n",
       "      <th>7</th>\n",
       "      <td>8</td>\n",
       "      <td>1</td>\n",
       "      <td>IZQUIERDA</td>\n",
       "      <td>1.739914e+09</td>\n",
       "      <td>1.739914e+09</td>\n",
       "      <td>1.739914e+09</td>\n",
       "      <td>2.0</td>\n",
       "      <td>1.0</td>\n",
       "      <td>0.319219</td>\n",
       "      <td>18/02/2025 18:23:36</td>\n",
       "    </tr>\n",
       "    <tr>\n",
       "      <th>8</th>\n",
       "      <td>9</td>\n",
       "      <td>2</td>\n",
       "      <td>DERECHA</td>\n",
       "      <td>1.739914e+09</td>\n",
       "      <td>1.739914e+09</td>\n",
       "      <td>1.739914e+09</td>\n",
       "      <td>2.0</td>\n",
       "      <td>1.0</td>\n",
       "      <td>0.319037</td>\n",
       "      <td>18/02/2025 18:23:54</td>\n",
       "    </tr>\n",
       "    <tr>\n",
       "      <th>9</th>\n",
       "      <td>10</td>\n",
       "      <td>2</td>\n",
       "      <td>DERECHA</td>\n",
       "      <td>1.739914e+09</td>\n",
       "      <td>1.739914e+09</td>\n",
       "      <td>1.739914e+09</td>\n",
       "      <td>2.0</td>\n",
       "      <td>1.0</td>\n",
       "      <td>0.320723</td>\n",
       "      <td>18/02/2025 18:24:11</td>\n",
       "    </tr>\n",
       "    <tr>\n",
       "      <th>10</th>\n",
       "      <td>11</td>\n",
       "      <td>1</td>\n",
       "      <td>IZQUIERDA</td>\n",
       "      <td>1.739914e+09</td>\n",
       "      <td>1.739914e+09</td>\n",
       "      <td>1.739914e+09</td>\n",
       "      <td>2.0</td>\n",
       "      <td>1.0</td>\n",
       "      <td>0.321895</td>\n",
       "      <td>18/02/2025 18:24:29</td>\n",
       "    </tr>\n",
       "    <tr>\n",
       "      <th>11</th>\n",
       "      <td>12</td>\n",
       "      <td>1</td>\n",
       "      <td>IZQUIERDA</td>\n",
       "      <td>1.739914e+09</td>\n",
       "      <td>1.739914e+09</td>\n",
       "      <td>1.739914e+09</td>\n",
       "      <td>2.0</td>\n",
       "      <td>1.0</td>\n",
       "      <td>0.314672</td>\n",
       "      <td>18/02/2025 18:24:46</td>\n",
       "    </tr>\n",
       "    <tr>\n",
       "      <th>12</th>\n",
       "      <td>13</td>\n",
       "      <td>2</td>\n",
       "      <td>DERECHA</td>\n",
       "      <td>1.739914e+09</td>\n",
       "      <td>1.739914e+09</td>\n",
       "      <td>1.739914e+09</td>\n",
       "      <td>2.0</td>\n",
       "      <td>1.0</td>\n",
       "      <td>0.329309</td>\n",
       "      <td>18/02/2025 18:25:04</td>\n",
       "    </tr>\n",
       "    <tr>\n",
       "      <th>13</th>\n",
       "      <td>14</td>\n",
       "      <td>1</td>\n",
       "      <td>IZQUIERDA</td>\n",
       "      <td>1.739914e+09</td>\n",
       "      <td>1.739914e+09</td>\n",
       "      <td>1.739914e+09</td>\n",
       "      <td>2.0</td>\n",
       "      <td>1.0</td>\n",
       "      <td>0.310205</td>\n",
       "      <td>18/02/2025 18:25:22</td>\n",
       "    </tr>\n",
       "    <tr>\n",
       "      <th>14</th>\n",
       "      <td>15</td>\n",
       "      <td>2</td>\n",
       "      <td>DERECHA</td>\n",
       "      <td>1.739914e+09</td>\n",
       "      <td>1.739914e+09</td>\n",
       "      <td>1.739914e+09</td>\n",
       "      <td>2.0</td>\n",
       "      <td>1.0</td>\n",
       "      <td>0.322946</td>\n",
       "      <td>18/02/2025 18:25:39</td>\n",
       "    </tr>\n",
       "    <tr>\n",
       "      <th>15</th>\n",
       "      <td>16</td>\n",
       "      <td>2</td>\n",
       "      <td>DERECHA</td>\n",
       "      <td>1.739914e+09</td>\n",
       "      <td>1.739914e+09</td>\n",
       "      <td>1.739914e+09</td>\n",
       "      <td>2.0</td>\n",
       "      <td>1.0</td>\n",
       "      <td>0.312920</td>\n",
       "      <td>18/02/2025 18:25:56</td>\n",
       "    </tr>\n",
       "    <tr>\n",
       "      <th>16</th>\n",
       "      <td>17</td>\n",
       "      <td>1</td>\n",
       "      <td>IZQUIERDA</td>\n",
       "      <td>1.739914e+09</td>\n",
       "      <td>1.739914e+09</td>\n",
       "      <td>1.739914e+09</td>\n",
       "      <td>2.0</td>\n",
       "      <td>1.0</td>\n",
       "      <td>0.320101</td>\n",
       "      <td>18/02/2025 18:26:15</td>\n",
       "    </tr>\n",
       "    <tr>\n",
       "      <th>17</th>\n",
       "      <td>18</td>\n",
       "      <td>1</td>\n",
       "      <td>IZQUIERDA</td>\n",
       "      <td>1.739914e+09</td>\n",
       "      <td>1.739914e+09</td>\n",
       "      <td>1.739914e+09</td>\n",
       "      <td>2.0</td>\n",
       "      <td>1.0</td>\n",
       "      <td>0.312000</td>\n",
       "      <td>18/02/2025 18:26:32</td>\n",
       "    </tr>\n",
       "    <tr>\n",
       "      <th>18</th>\n",
       "      <td>19</td>\n",
       "      <td>2</td>\n",
       "      <td>DERECHA</td>\n",
       "      <td>1.739914e+09</td>\n",
       "      <td>1.739914e+09</td>\n",
       "      <td>1.739914e+09</td>\n",
       "      <td>2.0</td>\n",
       "      <td>1.0</td>\n",
       "      <td>0.323134</td>\n",
       "      <td>18/02/2025 18:26:49</td>\n",
       "    </tr>\n",
       "    <tr>\n",
       "      <th>19</th>\n",
       "      <td>20</td>\n",
       "      <td>1</td>\n",
       "      <td>IZQUIERDA</td>\n",
       "      <td>1.739914e+09</td>\n",
       "      <td>1.739914e+09</td>\n",
       "      <td>1.739914e+09</td>\n",
       "      <td>2.0</td>\n",
       "      <td>1.0</td>\n",
       "      <td>0.306008</td>\n",
       "      <td>18/02/2025 18:27:06</td>\n",
       "    </tr>\n",
       "  </tbody>\n",
       "</table>\n",
       "</div>"
      ],
      "text/plain": [
       "    trialNumber  classNumber  className  startingTime   cueInitTime  \\\n",
       "0             1            2    DERECHA  1.739914e+09  1.739914e+09   \n",
       "1             2            2    DERECHA  1.739914e+09  1.739914e+09   \n",
       "2             3            1  IZQUIERDA  1.739914e+09  1.739914e+09   \n",
       "3             4            1  IZQUIERDA  1.739914e+09  1.739914e+09   \n",
       "4             5            2    DERECHA  1.739914e+09  1.739914e+09   \n",
       "5             6            1  IZQUIERDA  1.739914e+09  1.739914e+09   \n",
       "6             7            2    DERECHA  1.739914e+09  1.739914e+09   \n",
       "7             8            1  IZQUIERDA  1.739914e+09  1.739914e+09   \n",
       "8             9            2    DERECHA  1.739914e+09  1.739914e+09   \n",
       "9            10            2    DERECHA  1.739914e+09  1.739914e+09   \n",
       "10           11            1  IZQUIERDA  1.739914e+09  1.739914e+09   \n",
       "11           12            1  IZQUIERDA  1.739914e+09  1.739914e+09   \n",
       "12           13            2    DERECHA  1.739914e+09  1.739914e+09   \n",
       "13           14            1  IZQUIERDA  1.739914e+09  1.739914e+09   \n",
       "14           15            2    DERECHA  1.739914e+09  1.739914e+09   \n",
       "15           16            2    DERECHA  1.739914e+09  1.739914e+09   \n",
       "16           17            1  IZQUIERDA  1.739914e+09  1.739914e+09   \n",
       "17           18            1  IZQUIERDA  1.739914e+09  1.739914e+09   \n",
       "18           19            2    DERECHA  1.739914e+09  1.739914e+09   \n",
       "19           20            1  IZQUIERDA  1.739914e+09  1.739914e+09   \n",
       "\n",
       "    trialDuration  cueDuration  finishDuration  fadeInDuration  \\\n",
       "0    1.739914e+09          2.0             1.0        0.320427   \n",
       "1    1.739914e+09          2.0             1.0        0.321408   \n",
       "2    1.739914e+09          2.0             1.0        0.320933   \n",
       "3    1.739914e+09          2.0             1.0        0.309372   \n",
       "4    1.739914e+09          2.0             1.0        0.320359   \n",
       "5    1.739914e+09          2.0             1.0        0.310423   \n",
       "6    1.739914e+09          2.0             1.0        0.316634   \n",
       "7    1.739914e+09          2.0             1.0        0.319219   \n",
       "8    1.739914e+09          2.0             1.0        0.319037   \n",
       "9    1.739914e+09          2.0             1.0        0.320723   \n",
       "10   1.739914e+09          2.0             1.0        0.321895   \n",
       "11   1.739914e+09          2.0             1.0        0.314672   \n",
       "12   1.739914e+09          2.0             1.0        0.329309   \n",
       "13   1.739914e+09          2.0             1.0        0.310205   \n",
       "14   1.739914e+09          2.0             1.0        0.322946   \n",
       "15   1.739914e+09          2.0             1.0        0.312920   \n",
       "16   1.739914e+09          2.0             1.0        0.320101   \n",
       "17   1.739914e+09          2.0             1.0        0.312000   \n",
       "18   1.739914e+09          2.0             1.0        0.323134   \n",
       "19   1.739914e+09          2.0             1.0        0.306008   \n",
       "\n",
       "   startingTime(legible)  \n",
       "0    18/02/2025 18:21:37  \n",
       "1    18/02/2025 18:21:53  \n",
       "2    18/02/2025 18:22:10  \n",
       "3    18/02/2025 18:22:26  \n",
       "4    18/02/2025 18:22:44  \n",
       "5    18/02/2025 18:23:01  \n",
       "6    18/02/2025 18:23:17  \n",
       "7    18/02/2025 18:23:36  \n",
       "8    18/02/2025 18:23:54  \n",
       "9    18/02/2025 18:24:11  \n",
       "10   18/02/2025 18:24:29  \n",
       "11   18/02/2025 18:24:46  \n",
       "12   18/02/2025 18:25:04  \n",
       "13   18/02/2025 18:25:22  \n",
       "14   18/02/2025 18:25:39  \n",
       "15   18/02/2025 18:25:56  \n",
       "16   18/02/2025 18:26:15  \n",
       "17   18/02/2025 18:26:32  \n",
       "18   18/02/2025 18:26:49  \n",
       "19   18/02/2025 18:27:06  "
      ]
     },
     "execution_count": 31,
     "metadata": {},
     "output_type": "execute_result"
    }
   ],
   "source": [
    "import pandas as pd\n",
    "\n",
    "df = pd.read_csv(\"sn1_ts0_ct1_r2_events.txt\")\n",
    "df"
   ]
  },
  {
   "cell_type": "code",
   "execution_count": 32,
   "metadata": {},
   "outputs": [
    {
     "data": {
      "text/plain": [
       "np.float64(17.387326391119707)"
      ]
     },
     "execution_count": 32,
     "metadata": {},
     "output_type": "execute_result"
    }
   ],
   "source": [
    "df[\"trialDuration\"].diff().mean()"
   ]
  },
  {
   "cell_type": "code",
   "execution_count": 33,
   "metadata": {},
   "outputs": [
    {
     "data": {
      "text/plain": [
       "np.float64(0.5575517366817669)"
      ]
     },
     "execution_count": 33,
     "metadata": {},
     "output_type": "execute_result"
    }
   ],
   "source": [
    "df[\"trialDuration\"].diff().std()"
   ]
  },
  {
   "cell_type": "code",
   "execution_count": 34,
   "metadata": {},
   "outputs": [
    {
     "data": {
      "text/plain": [
       "(np.float64(0.31758626699447634), np.float64(0.005838682704935769))"
      ]
     },
     "execution_count": 34,
     "metadata": {},
     "output_type": "execute_result"
    }
   ],
   "source": [
    "df[\"fadeInDuration\"].mean(), df[\"fadeInDuration\"].std()"
   ]
  },
  {
   "cell_type": "code",
   "execution_count": null,
   "metadata": {},
   "outputs": [],
   "source": [
    "# eeg_tosave = raw_eeg.reshape(64, 211827)[[31,32,33],:]\n",
    "\n",
    "# with open(\"eeg.npy\",\"wb\") as f:\n",
    "#     np.save(f, eeg_tosave)"
   ]
  },
  {
   "cell_type": "code",
   "execution_count": null,
   "metadata": {},
   "outputs": [],
   "source": []
  }
 ],
 "metadata": {
  "colab": {
   "provenance": []
  },
  "kernelspec": {
   "display_name": "neuroiatools",
   "language": "python",
   "name": "python3"
  },
  "language_info": {
   "codemirror_mode": {
    "name": "ipython",
    "version": 3
   },
   "file_extension": ".py",
   "mimetype": "text/x-python",
   "name": "python",
   "nbconvert_exporter": "python",
   "pygments_lexer": "ipython3",
   "version": "3.12.8"
  }
 },
 "nbformat": 4,
 "nbformat_minor": 0
}
